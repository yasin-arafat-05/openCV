{
 "cells": [
  {
   "cell_type": "markdown",
   "metadata": {},
   "source": [
    "<br>\n",
    "\n",
    "# Capture Video from Camera:\n",
    "\n",
    "<br>"
   ]
  },
  {
   "cell_type": "code",
   "execution_count": 1,
   "metadata": {},
   "outputs": [],
   "source": [
    "import cv2 as cv"
   ]
  },
  {
   "cell_type": "markdown",
   "metadata": {},
   "source": [
    "<br>\n",
    "<br>\n",
    "\n",
    "### `cv.VideoCapture()`\n",
    "\n",
    "When you provide different values to the `cv.VideoCapture()` constructor, you specify the index of the camera or video file to be used. Here's what each value typically represents:\n",
    "\n",
    "- **`0`:** The default camera (usually the built-in webcam). This is commonly used when you have a single camera connected to your system.\n",
    "\n",
    "- **`1`, `2`, ...:** These values represent additional cameras if you have multiple cameras connected to your system. For example, `1` might refer to a secondary camera.\n",
    "\n",
    "- **`-1`:** OpenCV will automatically choose the first available camera.\n",
    "\n",
    "- **`-2`:** OpenCV will choose the second available camera.\n",
    "\n",
    "- **Video file path:** You can also provide the path to a video file as a string, and OpenCV will read frames from that file.\n",
    "\n",
    "Here's an example of using different indices:\n",
    "\n",
    "```python\n",
    "import cv2 as cv\n",
    "\n",
    "# Using the default camera (usually the built-in webcam)\n",
    "cap_default = cv.VideoCapture(0)\n",
    "\n",
    "# Using a secondary camera (if available)\n",
    "cap_secondary = cv.VideoCapture(1)\n",
    "\n",
    "# Automatically choosing the first available camera\n",
    "cap_auto = cv.VideoCapture(-1)\n",
    "\n",
    "# Automatically choosing the second available camera\n",
    "cap_auto_2 = cv.VideoCapture(-2)\n",
    "\n",
    "# Check if the cameras are opened successfully\n",
    "if not (cap_default.isOpened() and cap_secondary.isOpened() and cap_auto.isOpened() and cap_auto_2.isOpened()):\n",
    "    print(\"Error opening one or more cameras.\")\n",
    "else:\n",
    "    print(\"Cameras opened successfully.\")\n",
    "\n",
    "# Release the VideoCapture objects\n",
    "cap_default.release()\n",
    "cap_secondary.release()\n",
    "cap_auto.release()\n",
    "cap_auto_2.release()\n",
    "```\n",
    "\n",
    "<br>\n",
    "<br>\n",
    "\n",
    "### `Why use loop and rat,frame two variable:`\n",
    "\n",
    "In OpenCV, when you capture video using the `cv.VideoCapture` class, the `read` method returns two values: `ret` and `frame`.\n",
    "\n",
    "1. **`ret` (Return Value):** It is a boolean variable that indicates whether the frame was read successfully or not. If the frame is read successfully, `ret` is set to `True`; otherwise, it is set to `False`. Checking the value of `ret` allows you to determine if the video capture is still valid and if frames are being successfully read.\n",
    "\n",
    "2. **`frame`:** It represents the actual frame that is read from the video source. It is an image (in the form of a NumPy array) representing the current frame of the video stream.\n",
    "\n",
    "Here's an example usage:\n",
    "\n",
    "```python\n",
    "import cv2 as cv\n",
    "\n",
    "# Open a video capture object\n",
    "cap = cv.VideoCapture('video.mp4')\n",
    "\n",
    "while True:\n",
    "    # Read a frame from the video source\n",
    "    ret, frame = cap.read()\n",
    "\n",
    "    # Check if the frame was read successfully\n",
    "    if not ret:\n",
    "        print(\"Error reading frame.\")\n",
    "        break\n",
    "\n",
    "    # Process the frame or perform any desired operations\n",
    "    # ...\n",
    "\n",
    "    # Display the frame\n",
    "    cv.imshow('Video Frame', frame)\n",
    "\n",
    "    # Check for user input or break conditions\n",
    "    key = cv.waitKey(1)\n",
    "    if key == 27:  # Press 'Esc' key to exit\n",
    "        break\n",
    "\n",
    "# Release the video capture object\n",
    "cap.release()\n",
    "\n",
    "# Destroy all OpenCV windows\n",
    "cv.destroyAllWindows()\n",
    "```\n",
    "<br>\n",
    "<br>"
   ]
  },
  {
   "cell_type": "code",
   "execution_count": 2,
   "metadata": {},
   "outputs": [
    {
     "name": "stderr",
     "output_type": "stream",
     "text": [
      "[ WARN:0@0.110] global cap_gstreamer.cpp:1173 isPipelinePlaying OpenCV | GStreamer warning: GStreamer: pipeline have not been created\n"
     ]
    }
   ],
   "source": [
    "\n",
    "# To capture video we need create the object of VideoCapture\n",
    "cap = cv.VideoCapture(0)\n",
    "\n",
    "# Check the camera is open or not\n",
    "if not cap.isOpened():\n",
    "    print(\"camera is not open successfully.\")\n",
    "    exit()\n",
    "\n",
    "# Read the ret and frame of a video:\n",
    "while True:\n",
    "    ret,frame = cap.read()\n",
    "\n",
    "    # if not frame exit the loop:\n",
    "    if not ret:\n",
    "        print()\n",
    "        print(\"No frame available. Exiting...\")\n",
    "        print()\n",
    "        break\n",
    "\n",
    "    #display the resulting frame\n",
    "    img_resize = cv.resize(frame,(500,250))\n",
    "    cv.imshow(\"output\",img_resize)\n",
    "\n",
    "    # don't need a variable to exit:\n",
    "    if cv.waitKey(1)==ord('q'):\n",
    "        break\n",
    "\n",
    "cap.release()\n",
    "cv.destroyAllWindows()\n"
   ]
  },
  {
   "cell_type": "markdown",
   "metadata": {},
   "source": [
    "<br>\n",
    "<br>\n",
    "\n",
    "# Change the color of the frame of the video:\n",
    "\n",
    "<br>\n",
    "<br>"
   ]
  },
  {
   "cell_type": "code",
   "execution_count": 6,
   "metadata": {},
   "outputs": [
    {
     "name": "stderr",
     "output_type": "stream",
     "text": [
      "[ WARN:0@137.242] global cap_gstreamer.cpp:1173 isPipelinePlaying OpenCV | GStreamer warning: GStreamer: pipeline have not been created\n"
     ]
    }
   ],
   "source": [
    "\n",
    "capture = cv.VideoCapture(0)\n",
    "\n",
    "while True:\n",
    "    if not capture.isOpened():\n",
    "        print(\"Can't open the camera\")\n",
    "        exit()\n",
    "    rate,frame = capture.read()\n",
    "    if not rate:\n",
    "        print(\"Video finished. Exiting...\")\n",
    "        break\n",
    "        \n",
    "    # Convert color into gray\n",
    "     \n",
    "    gray = cv.cvtColor(frame,cv.COLOR_BGR2GRAY)\n",
    "\n",
    "    img_size = cv.resize(gray,(780,480))\n",
    "\n",
    "    cv.imshow(\"output\",img_size)\n",
    "\n",
    "    if cv.waitKey(1)==ord('q'):\n",
    "        break\n",
    "\n",
    "capture.release()\n",
    "cv.destroyAllWindows()"
   ]
  },
  {
   "cell_type": "markdown",
   "metadata": {},
   "source": [
    "<br>\n",
    "<br>\n",
    "\n",
    "# Play video from file:\n",
    "\n",
    "<br>\n",
    "<br>"
   ]
  },
  {
   "cell_type": "code",
   "execution_count": 9,
   "metadata": {},
   "outputs": [
    {
     "name": "stdout",
     "output_type": "stream",
     "text": [
      "Existing. . .\n"
     ]
    }
   ],
   "source": [
    "# capture the video in VideoCapture Object: \n",
    "\n",
    "cap1 = cv.VideoCapture(r'assest/test_video.mp4')\n",
    "\n",
    "while True:\n",
    "    if not cap1.isOpened():\n",
    "        print(\"can't open the camera.\")\n",
    "        exit()\n",
    "    rate,frame = cap1.read()\n",
    "    if not rate: \n",
    "        print(\"Existing. . .\")\n",
    "        break\n",
    "    resize1 = cv.resize(frame,(780,480))\n",
    "    cv.imshow(\"output\",resize1)\n",
    "    if cv.waitKey(1)==ord('q'):\n",
    "        break\n",
    "cap1.release()\n",
    "cv.destroyAllWindows()"
   ]
  },
  {
   "cell_type": "markdown",
   "metadata": {},
   "source": [
    "<br>\n",
    "<br>\n",
    "\n",
    "# Save the video in file :\n",
    "\n",
    "<br> <br>"
   ]
  },
  {
   "cell_type": "markdown",
   "metadata": {},
   "source": [
    "#### To save a video we need the object of `VideoWriter() : `"
   ]
  },
  {
   "cell_type": "markdown",
   "metadata": {},
   "source": [
    " cv.VideoWriter('output.avi', fourcc, 20.0, (640,  480))\n",
    "\n",
    " - `Output.avi`  Output file name.\n",
    " - `fourcc` four character code or four byte code to identify a video codec.\n",
    " FourCC codes provide a standardized way to identify and specify the codec used in a video file. Without this identification, software would have difficulty determining how to properly interpret and play the video.\n",
    " - `fps -> frame per second`\n",
    " - `(640,480)` Specify the video width and height.\n",
    " `In Fedora:` DIVX, XVID, MJPG, X264, WMV1, WMV2. (XVID is more preferable. MJPG results in high size video. X264 gives very small size video).\n",
    " `In Windows:` DIVX (More to be tested and added).\n",
    " `In OSX:`  MJPG (.mp4), DIVX (.avi), X264 (.mkv)."
   ]
  },
  {
   "cell_type": "markdown",
   "metadata": {},
   "source": [
    "<br>\n",
    "\n",
    "### Save video from a video:\n",
    " \n",
    "<br>"
   ]
  },
  {
   "cell_type": "code",
   "execution_count": null,
   "metadata": {},
   "outputs": [],
   "source": [
    "cap2 = cv.VideoCapture(r'assest/test_video.mp4')\n",
    "\n",
    "#for save a video:\n",
    "fourcc = cv.VideoWriter_fourcc(*'XVID')\n",
    "ouput = cv.VideoWriter(\"ouput.avi\",fourcc,20.0,(640,480))\n",
    "\n",
    "while True:\n",
    "    if not cap2.isOpened():\n",
    "        print(\"camera is not opened.\")\n",
    "        exit()\n",
    "    rate,frame = cap2.read()\n",
    "    if not rate: \n",
    "        print(\"Video finished. Exiting . . . .\")\n",
    "        break\n"
   ]
  }
 ],
 "metadata": {
  "kernelspec": {
   "display_name": "Python 3",
   "language": "python",
   "name": "python3"
  },
  "language_info": {
   "codemirror_mode": {
    "name": "ipython",
    "version": 3
   },
   "file_extension": ".py",
   "mimetype": "text/x-python",
   "name": "python",
   "nbconvert_exporter": "python",
   "pygments_lexer": "ipython3",
   "version": "3.11.6"
  }
 },
 "nbformat": 4,
 "nbformat_minor": 2
}
