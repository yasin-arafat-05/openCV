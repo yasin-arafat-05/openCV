{
 "cells": [
  {
   "cell_type": "markdown",
   "metadata": {},
   "source": [
    "\n",
    "# Lecture 28: `Hough Line Transform`\n",
    "\n",
    "Half Transform is a popular technique to detect any shape if you can represent that shape in a mathematical form Hough transform can detect the shape even if it is broken or distorted a little bit.\n",
    "\n",
    "`You have an image of a road and you want to detect these lane lines in this road image so the first step in order to detect these Lane lines in this road is to find the edge pixels using canny edge detection or any other edge detection method now after you found out the edges using any edge detection method you want a geometrical representation of that edge and in order to find out the geometrical representation for example you want to find out the slope of this edge or its intercept you can use half transform to represent these pixels or edges in the mathematical or geometrical form so after you find out the edges using any edge detector you just have the sequence of pixels so you can loop through all the pixels and somehow figure out the slope and intercepts but it's a very difficult task so we want some mechanism that gives more weight age to pixels that are already in line and this is what we can achieve using Hough transform.`\n",
    "\n",
    "# Basic of Hough Line Transform:\n",
    "\n",
    "\n",
    "![Alt text](image-5.png)\n",
    "\n"
   ]
  },
  {
   "cell_type": "code",
   "execution_count": 1,
   "metadata": {},
   "outputs": [],
   "source": [
    "\n",
    "import numpy as np \n",
    "import matplotlib.pyplot as plt \n",
    "import cv2 as cv "
   ]
  },
  {
   "cell_type": "code",
   "execution_count": null,
   "metadata": {},
   "outputs": [],
   "source": []
  }
 ],
 "metadata": {
  "kernelspec": {
   "display_name": "venv",
   "language": "python",
   "name": "python3"
  },
  "language_info": {
   "codemirror_mode": {
    "name": "ipython",
    "version": 3
   },
   "file_extension": ".py",
   "mimetype": "text/x-python",
   "name": "python",
   "nbconvert_exporter": "python",
   "pygments_lexer": "ipython3",
   "version": "3.12.3"
  }
 },
 "nbformat": 4,
 "nbformat_minor": 2
}
