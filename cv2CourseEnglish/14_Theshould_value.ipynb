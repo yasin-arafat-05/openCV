{
 "cells": [
  {
   "cell_type": "markdown",
   "metadata": {},
   "source": [
    "# Lecture 14: Thresholding\n",
    "\n",
    "`Thresholding is a very popular segmentation technique used for separating an object from its background the process of threshold involves comparing each pixel of an image with a predefined threshold value and this type of comparison of each pixel of an image to a threshold value divides all the pixels of the input image into two groups so the first group involves pixels having intensity value lower than the threshold value and the second group involves the pixels having intensity value greater than the threshold value and using the different threshold incretins which are available in open CV we can give different values to these pixels which are higher than the threshold value and which have the intensity lower than the threshold value.`"
   ]
  },
  {
   "cell_type": "markdown",
   "metadata": {},
   "source": [
    "<br>\n",
    "\n",
    "- Thresholding of an image give us two values: i) ret ii) thresholded value \n"
   ]
  }
 ],
 "metadata": {
  "kernelspec": {
   "display_name": "venv",
   "language": "python",
   "name": "python3"
  },
  "language_info": {
   "name": "python",
   "version": "3.12.3"
  }
 },
 "nbformat": 4,
 "nbformat_minor": 2
}
