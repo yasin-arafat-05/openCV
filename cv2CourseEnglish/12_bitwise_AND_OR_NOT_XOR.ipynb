{
 "cells": [
  {
   "cell_type": "markdown",
   "metadata": {},
   "source": [
    "# Lecture 12:\n",
    "\n",
    "`Bitwise Operations:  (bitwise AND, OR, NOT and XOR)`"
   ]
  },
  {
   "cell_type": "markdown",
   "metadata": {},
   "source": [
    "<br>\n",
    "\n",
    "### We use bitwize operation while working with mask:\n",
    "\n",
    "In OpenCV (Open Source Computer Vision Library), a mask is a binary image used to specify certain regions of interest or to filter out unwanted parts of an image. A mask image consists of pixels with values of either 0 or 255 (or sometimes 0 or 1), where 0 typically represents the background or areas to be ignored, and 255 represents the foreground or areas to be considered.\n",
    "\n",
    "Masks are commonly used in image processing tasks such as:\n",
    "\n",
    "1. **Region of Interest (ROI) selection**: You can apply a mask to focus on specific parts of an image for further processing while ignoring the rest.\n",
    "\n",
    "2. **Image Filtering**: By applying a mask, you can perform operations only on certain regions of an image, leaving other areas unchanged.\n",
    "\n",
    "3. **Image Segmentation**: Masks are used to separate objects of interest from the background by assigning different values to pixels inside and outside the objects.\n",
    "\n",
    "4. **Image Blending**: Masks can be used to blend two images together seamlessly by specifying which parts of each image should contribute to the final result.\n",
    "\n",
    "<br>"
   ]
  },
  {
   "cell_type": "code",
   "execution_count": 11,
   "metadata": {},
   "outputs": [],
   "source": [
    "import cv2 as cv \n",
    "import numpy as np "
   ]
  },
  {
   "cell_type": "code",
   "execution_count": 17,
   "metadata": {},
   "outputs": [],
   "source": [
    "img1 = np.zeros((512,512,3),np.uint8)\n",
    "img2 = np.zeros((512,512,3),np.uint8)\n",
    "cv.rectangle(img1,(150,0),(350,250),(255,255,255),-1)\n",
    "cv.rectangle(img2,(250,0),(512,250),(255,255,255),-1)\n",
    "\n",
    "bit_wize_and = cv.bitwise_and(img1,img2)\n",
    "bit_wize_or = cv.bitwise_or(img1,img2)\n",
    "bit_wize_not = cv.bitwise_not(img1)\n",
    "bit_wize_xor = cv.bitwise_xor(img1,img2)\n",
    "\n",
    "cv.imshow(\"img1\",img1)\n",
    "cv.imshow(\"img2\",img2)\n",
    "cv.imshow(\"bitwize_and\",bit_wize_and)\n",
    "cv.imshow(\"bitwize_or\",bit_wize_or)\n",
    "cv.imshow(\"bitwize_not\",bit_wize_not)\n",
    "cv.imshow(\"bitwize_xor\",bit_wize_xor)\n",
    "\n",
    "cv.waitKey(0)\n",
    "cv.destroyAllWindows()"
   ]
  },
  {
   "cell_type": "markdown",
   "metadata": {},
   "source": [
    "---\n",
    "We know in bitwize and if 1 1 then we get 1:\n",
    "That's why we get the common portion of image1 and image 2 \n",
    "\n",
    "---"
   ]
  }
 ],
 "metadata": {
  "kernelspec": {
   "display_name": "venv",
   "language": "python",
   "name": "python3"
  },
  "language_info": {
   "codemirror_mode": {
    "name": "ipython",
    "version": 3
   },
   "file_extension": ".py",
   "mimetype": "text/x-python",
   "name": "python",
   "nbconvert_exporter": "python",
   "pygments_lexer": "ipython3",
   "version": "3.12.3"
  }
 },
 "nbformat": 4,
 "nbformat_minor": 2
}
