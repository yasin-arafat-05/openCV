{
 "cells": [
  {
   "cell_type": "markdown",
   "metadata": {},
   "source": [
    "# Object Detection and Tracking using HSV:\n",
    "\n",
    "`We will see how we can perform object detection using HSV color space.We have already seen how to work with BGR or colored images or grayscale images and we have already seen how we can convert from colored images to grayscale images so there are more than 150 color space conversion methods in OpenCV and one of them is colored image to HSV image.Now, what is HSV color space? HSV stands for hue saturation value so H stands for hue as for saturation and V for the value.`\n",
    "\n",
    "### SEE `0_basic.md` for to understand HSV\n",
    "\n",
    "<br>"
   ]
  },
  {
   "cell_type": "code",
   "execution_count": 2,
   "metadata": {},
   "outputs": [],
   "source": [
    "import cv2 as cv \n",
    "import numpy as np "
   ]
  },
  {
   "cell_type": "markdown",
   "metadata": {},
   "source": [
    "\n",
    "# Problem Statement: \n",
    "\n",
    "<br>\n",
    "\n",
    "`See the image in \"data/smarties.png\". There are many type of colored ball . How can we detect a spefic color ball?`\n",
    "\n",
    "<br>"
   ]
  },
  {
   "cell_type": "code",
   "execution_count": 10,
   "metadata": {},
   "outputs": [],
   "source": [
    "import cv2 as cv\n",
    "import numpy as np\n",
    "\n",
    "# Callback function for trackbars\n",
    "def nothing(x):\n",
    "    pass\n",
    "\n",
    "# Create a named window\n",
    "cv.namedWindow(\"Trackbar\")\n",
    "\n",
    "# Create trackbars for lower HSV\n",
    "cv.createTrackbar(\"LH\", \"Trackbar\", 0, 255, nothing)  # Lower Hue\n",
    "cv.createTrackbar(\"LS\", \"Trackbar\", 0, 255, nothing)  # Lower Saturation\n",
    "cv.createTrackbar(\"LV\", \"Trackbar\", 0, 255, nothing)  # Lower Value\n",
    "\n",
    "# Create trackbars for upper HSV\n",
    "cv.createTrackbar(\"UH\", \"Trackbar\", 255, 255, nothing)  # Upper Hue\n",
    "cv.createTrackbar(\"US\", \"Trackbar\", 255, 255, nothing)  # Upper Saturation\n",
    "cv.createTrackbar(\"UV\", \"Trackbar\", 255, 255, nothing)  # Upper Value\n",
    "\n",
    "while True:\n",
    "    img = cv.imread(\"data/smarties.png\")\n",
    "\n",
    "    # Get trackbar positions\n",
    "    l_h = cv.getTrackbarPos(\"LH\", \"Trackbar\")\n",
    "    l_s = cv.getTrackbarPos(\"LS\", \"Trackbar\")\n",
    "    l_v = cv.getTrackbarPos(\"LV\", \"Trackbar\")\n",
    "\n",
    "    h_h = cv.getTrackbarPos(\"UH\", \"Trackbar\")\n",
    "    h_s = cv.getTrackbarPos(\"US\", \"Trackbar\")\n",
    "    h_v = cv.getTrackbarPos(\"UV\", \"Trackbar\")\n",
    "\n",
    "    l_b = np.array([l_h, l_s, l_v])\n",
    "    u_b = np.array([h_h, h_s, h_v])\n",
    "\n",
    "    # Convert the color image into HSV\n",
    "    hsv = cv.cvtColor(img, cv.COLOR_BGR2HSV)\n",
    "    mask = cv.inRange(hsv, l_b, u_b)\n",
    "    res = cv.bitwise_and(img, img, mask=mask)\n",
    "\n",
    "\n",
    "    cv.imshow(\"res\", res)\n",
    "    cv.imshow(\"mask\", mask)\n",
    "    cv.imshow(\"hsv\", hsv)\n",
    "\n",
    "    if cv.waitKey(1) & 0xFF == ord('q'):\n",
    "        break\n",
    "\n",
    "cv.destroyAllWindows()\n"
   ]
  },
  {
   "cell_type": "markdown",
   "metadata": {},
   "source": [
    "<br>\n",
    "---\n",
    "\n",
    "এইখানে, আমরা যেই কালার এর বল সনাক্ত করতে চাই । সেই কালারের একটা mask বানাবো । এখন, mask বানানোর জন্য আমাদের ছবিটাকে hsv হওয়া দরকার । আর, সেই কালারের lower bound and upper bound দরকার । \n",
    "\n",
    "### So in total: \n",
    "\n",
    "\n",
    "1. **Lower and Upper Bounds of a Color**:\n",
    "   - In this code, we're working with the HSV (Hue, Saturation, Value) color space.\n",
    "   - The lower and upper bounds of a color represent the range of HSV values that define that particular color.\n",
    "   - For example, if you want to detect the color red, you would specify a lower bound and an upper bound for the hue component of the HSV color space that corresponds to the range of red hues.\n",
    "   - Similarly, you can specify lower and upper bounds for saturation and value to further refine the color range.\n",
    "\n",
    "2. **How Mask Works**:\n",
    "   - The mask is a binary image where white pixels represent the areas of the image that fall within the specified HSV range (determined by the lower and upper bounds), and black pixels represent the areas outside the range.\n",
    "   - The `cv.inRange` function is used to create this mask. It takes the HSV image and the lower and upper bounds as input and produces a binary mask as output.\n",
    "   - The mask essentially acts as a filter, allowing you to isolate specific colors or ranges of colors from the original image.\n",
    "\n",
    "3. **Getting the Result (Res)**:\n",
    "   - The result (`res`) is obtained by applying the mask to the original image using bitwise AND operation (`cv.bitwise_and`).\n",
    "   - This operation retains only the pixels in the original image where the corresponding pixel in the mask is white (i.e., where the color falls within the specified range).\n",
    "   - As a result, the `res` image contains only the areas of the original image that match the specified color range, while the areas outside the range are set to black (since the corresponding pixels in the mask are black).\n",
    "   - By displaying the `res` image, you can see the effect of the color filtering: only the parts of the original image that match the specified color range are visible.\n",
    "\n",
    "In summary, by defining lower and upper bounds for a color range in the HSV color space, creating a mask based on these bounds, and then applying the mask to the original image, you can effectively isolate and extract specific colors or color ranges from an image. This technique is commonly used in computer vision tasks such as object detection, segmentation, and tracking based on color.\n",
    "\n",
    "---\n",
    "<br>"
   ]
  }
 ],
 "metadata": {
  "kernelspec": {
   "display_name": "venv",
   "language": "python",
   "name": "python3"
  },
  "language_info": {
   "codemirror_mode": {
    "name": "ipython",
    "version": 3
   },
   "file_extension": ".py",
   "mimetype": "text/x-python",
   "name": "python",
   "nbconvert_exporter": "python",
   "pygments_lexer": "ipython3",
   "version": "3.12.3"
  }
 },
 "nbformat": 4,
 "nbformat_minor": 2
}
