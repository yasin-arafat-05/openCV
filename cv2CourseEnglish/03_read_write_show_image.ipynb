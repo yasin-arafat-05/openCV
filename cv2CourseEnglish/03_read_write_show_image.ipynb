{
 "cells": [
  {
   "cell_type": "markdown",
   "metadata": {},
   "source": [
    "# Lecture 03:\n",
    "\n",
    "- read an image\n",
    "- write an image\n",
    "- show an image\n",
    "\n",
    "```txt\n",
    "Read an image:\n",
    "cv2.imread() Second argument is a flag which specifies the way image should be read.\n",
    "flag  integer value  description\n",
    "- cv2.IMREAD_COLOR  1  Loads a color image.\n",
    "- cv2.IMREAD_GRAYSCALE  0  Loads image in grayscale mode\n",
    "- cv2.IMREAD_UNCHANGED  -1  Loads image as such including alpha channel\n",
    "```"
   ]
  },
  {
   "cell_type": "markdown",
   "metadata": {},
   "source": [
    "\n",
    "<br>\n",
    "\n",
    "# Read and Show Image\n",
    "\n",
    "\n",
    "<br>\n"
   ]
  },
  {
   "cell_type": "code",
   "execution_count": 2,
   "metadata": {},
   "outputs": [
    {
     "name": "stdout",
     "output_type": "stream",
     "text": [
      "None\n"
     ]
    },
    {
     "name": "stderr",
     "output_type": "stream",
     "text": [
      "[ WARN:0@594.555] global loadsave.cpp:241 findDecoder imread_('wrong/path'): can't open/read file: check file path/integrity\n",
      "qt.qpa.plugin: Could not find the Qt platform plugin \"wayland\" in \"/home/yasin/allProgram/openCV/venv/lib/python3.12/site-packages/cv2/qt/plugins\"\n"
     ]
    }
   ],
   "source": [
    "import cv2 as cv \n",
    "\n",
    "img = cv.imread('wrong/path') # if we give a wrong image path then we get None \n",
    "print(img)\n",
    "\n",
    "colorImg = cv.imread('data/lena.jpg',1)\n",
    "grayImg = cv.imread('data/lena.jpg',0)\n",
    "unchangeImg = cv.imread('data/lena.jpg',-1)\n",
    "\n",
    "cv.imshow(\"colorImg\",colorImg)\n",
    "cv.imshow(\"grayImg\",grayImg)\n",
    "cv.imshow(\"unchangeImg\",unchangeImg)\n",
    "\n",
    "if cv.waitKey(0) == ord('q'):\n",
    "    cv.destroyAllWindows()\n",
    "\n",
    "# why use use waitKey and its value to 0. what is the ord() and destroyAllWindows() function does?\n"
   ]
  },
  {
   "cell_type": "markdown",
   "metadata": {},
   "source": [
    "<br>\n",
    "\n",
    "---\n",
    "\n",
    "The `waitKey(0)` function is used to wait for a keyboard event for a specified amount of milliseconds. When `waitKey(0)` is called with a value of 0, it means that the program will wait indefinitely until a key is pressed. This is commonly used at the end of OpenCV scripts to keep the window open until the user decides to close it.\n",
    "\n",
    "The `ord()` function in Python returns the Unicode code point for a given character. In the context of OpenCV, `ord('q')` is used to get the Unicode code point for the letter 'q'. In this script, it's used as a condition for the `waitKey()` function. It means that the program will wait until the user presses the 'q' key to close the OpenCV windows.\n",
    "\n",
    "The `destroyAllWindows()` function is used to close all OpenCV windows that are currently open. In the script you provided, it's used to close the windows after the user presses the 'q' key and exits the `waitKey(0)` loop.\n",
    "\n",
    "So, in summary:\n",
    "- `waitKey(0)`: Waits indefinitely for a key press, keeping the OpenCV windows open.\n",
    "- `ord('q')`: Gets the Unicode code point for the letter 'q', used as a condition to exit the `waitKey(0)` loop when the 'q' key is pressed.\n",
    "- `destroyAllWindows()`: Closes all OpenCV windows when the program exits.\n",
    "\n",
    "---\n"
   ]
  },
  {
   "cell_type": "markdown",
   "metadata": {},
   "source": [
    "\n",
    "#  Save the grayscal image:\n"
   ]
  },
  {
   "cell_type": "code",
   "execution_count": 7,
   "metadata": {},
   "outputs": [],
   "source": [
    "\n",
    "grayImg = cv.imread('data/lena.jpg',0)\n",
    "\n",
    "cv.imshow(\"grayImg\",grayImg)\n",
    "\n",
    "if cv.waitKey(0) == ord('q'):\n",
    "    cv.destroyAllWindows()\n",
    "else :\n",
    "    cv.imwrite(\"grayimg.jpg\",grayImg)\n",
    "    cv.destroyAllWindows()\n"
   ]
  },
  {
   "cell_type": "code",
   "execution_count": null,
   "metadata": {},
   "outputs": [],
   "source": []
  }
 ],
 "metadata": {
  "kernelspec": {
   "display_name": "venv",
   "language": "python",
   "name": "python3"
  },
  "language_info": {
   "codemirror_mode": {
    "name": "ipython",
    "version": 3
   },
   "file_extension": ".py",
   "mimetype": "text/x-python",
   "name": "python",
   "nbconvert_exporter": "python",
   "pygments_lexer": "ipython3",
   "version": "3.12.3"
  }
 },
 "nbformat": 4,
 "nbformat_minor": 2
}
