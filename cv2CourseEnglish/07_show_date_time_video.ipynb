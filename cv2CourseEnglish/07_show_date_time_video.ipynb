{
 "cells": [
  {
   "cell_type": "markdown",
   "metadata": {},
   "source": [
    "# Lecture 07:\n",
    "- `Show date time on a video.`"
   ]
  },
  {
   "cell_type": "code",
   "execution_count": 21,
   "metadata": {},
   "outputs": [],
   "source": [
    "\n",
    "import cv2 as cv \n",
    "import datetime\n",
    "\n",
    "capture = cv.VideoCapture(0)\n",
    "\n",
    "\n",
    "while capture.isOpened(): \n",
    "    \n",
    "    rate,frame = capture.read() \n",
    "    if not rate:\n",
    "        break\n",
    "    \n",
    "    text =  str(datetime.datetime.now())\n",
    "    \n",
    "    cv.putText(frame,text,(0,50),cv.FONT_HERSHEY_SIMPLEX,1,(255,0,0),1,cv.LINE_AA)\n",
    "    \n",
    "    cv.imshow(\"video\",frame)\n",
    "    if cv.waitKey(60) & 0xFF == ord('q'): # wait key(val) value work as frame per second\n",
    "        break\n",
    "    \n",
    "\n",
    "\n",
    "capture.release()\n",
    "cv.destroyAllWindows()\n",
    "\n"
   ]
  }
 ],
 "metadata": {
  "kernelspec": {
   "display_name": "venv",
   "language": "python",
   "name": "python3"
  },
  "language_info": {
   "codemirror_mode": {
    "name": "ipython",
    "version": 3
   },
   "file_extension": ".py",
   "mimetype": "text/x-python",
   "name": "python",
   "nbconvert_exporter": "python",
   "pygments_lexer": "ipython3",
   "version": "3.12.3"
  }
 },
 "nbformat": 4,
 "nbformat_minor": 2
}
