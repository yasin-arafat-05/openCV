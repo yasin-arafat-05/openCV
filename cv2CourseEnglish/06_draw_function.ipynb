{
 "cells": [
  {
   "cell_type": "markdown",
   "metadata": {},
   "source": [
    "# lecture 06: draw function:\n",
    "\n",
    "- `line`\n",
    "- `arrowed line`\n",
    "- `draw rectangle`\n",
    "- `draw circle`\n",
    "- `put text`"
   ]
  },
  {
   "cell_type": "code",
   "execution_count": 7,
   "metadata": {},
   "outputs": [],
   "source": [
    "import cv2 as cv \n",
    "import numpy as np "
   ]
  },
  {
   "cell_type": "code",
   "execution_count": 8,
   "metadata": {},
   "outputs": [
    {
     "name": "stdout",
     "output_type": "stream",
     "text": [
      "shape height,width (512, 512, 3)\n"
     ]
    }
   ],
   "source": [
    "img = cv.imread(\"data/lena.jpg\",1)\n",
    "\n",
    "print(\"shape height,width {}\".format(img.shape))\n",
    "\n",
    "# ------------------- Line -------------------\n",
    "cv.line(img,(0,0),(250,250),(255,0,0),5,cv.LINE_4)\n",
    "\n",
    "# ------------------- Arrowed Line -------------------\n",
    "cv.arrowedLine(img,(0,255),(250,250),(255,0,0),5,cv.LINE_AA)\n",
    "\n",
    "# ------------------- Rectangle  -------------------\n",
    "\"\"\"\n",
    "\n",
    "x1,y1____________________\n",
    "|                        |\n",
    "|                        |\n",
    "|                        |\n",
    "_____________________x2,y2\n",
    "\n",
    "\"\"\"\n",
    "cv.rectangle(img,(250,250),(450,450),(255,0,255),5)\n",
    "\n",
    "# ------------------- Circle  -------------------\n",
    "cv.circle(img,(350,350),100,(255,0,255),-1)\n",
    "\n",
    "# ------------------- Put Text  -------------------\n",
    "cv.putText(img,\"OPENCV\",(350,100),cv.FONT_HERSHEY_COMPLEX,1,(0,255,255),5)\n",
    "\n",
    "cv.imshow('Show_Image',img)\n",
    "if cv.waitKey(0) & 0xFF == ord('q'):\n",
    "    cv.destroyAllWindows()"
   ]
  },
  {
   "cell_type": "markdown",
   "metadata": {},
   "source": [
    "---\n",
    "\n",
    "<br>\n",
    "\n",
    "There are 3 type of lines in openCV LINE_4 , LINE_8 and LINE_AA\n",
    "\n",
    "- go to openCVThtorialsHindi then click basic.md and then go to lecture 12\n",
    "\n",
    "<br>\n",
    "\n",
    "---"
   ]
  },
  {
   "cell_type": "markdown",
   "metadata": {},
   "source": [
    "# Create an image using numpy array:"
   ]
  },
  {
   "cell_type": "code",
   "execution_count": 11,
   "metadata": {},
   "outputs": [
    {
     "name": "stdout",
     "output_type": "stream",
     "text": [
      "[[[0 0 0]\n",
      "  [0 0 0]\n",
      "  [0 0 0]\n",
      "  ...\n",
      "  [0 0 0]\n",
      "  [0 0 0]\n",
      "  [0 0 0]]\n",
      "\n",
      " [[0 0 0]\n",
      "  [0 0 0]\n",
      "  [0 0 0]\n",
      "  ...\n",
      "  [0 0 0]\n",
      "  [0 0 0]\n",
      "  [0 0 0]]\n",
      "\n",
      " [[0 0 0]\n",
      "  [0 0 0]\n",
      "  [0 0 0]\n",
      "  ...\n",
      "  [0 0 0]\n",
      "  [0 0 0]\n",
      "  [0 0 0]]\n",
      "\n",
      " ...\n",
      "\n",
      " [[0 0 0]\n",
      "  [0 0 0]\n",
      "  [0 0 0]\n",
      "  ...\n",
      "  [0 0 0]\n",
      "  [0 0 0]\n",
      "  [0 0 0]]\n",
      "\n",
      " [[0 0 0]\n",
      "  [0 0 0]\n",
      "  [0 0 0]\n",
      "  ...\n",
      "  [0 0 0]\n",
      "  [0 0 0]\n",
      "  [0 0 0]]\n",
      "\n",
      " [[0 0 0]\n",
      "  [0 0 0]\n",
      "  [0 0 0]\n",
      "  ...\n",
      "  [0 0 0]\n",
      "  [0 0 0]\n",
      "  [0 0 0]]]\n"
     ]
    }
   ],
   "source": [
    "# black image\n",
    "black = np.zeros([512,512,3],np.uint8)\n",
    "print(black)\n",
    "cv.imshow(\"npIMG\",black)\n",
    "cv.waitKey(0)\n",
    "cv.destroyAllWindows()"
   ]
  },
  {
   "cell_type": "code",
   "execution_count": 12,
   "metadata": {},
   "outputs": [
    {
     "name": "stdout",
     "output_type": "stream",
     "text": [
      "[[[1 1 1]\n",
      "  [1 1 1]\n",
      "  [1 1 1]\n",
      "  ...\n",
      "  [1 1 1]\n",
      "  [1 1 1]\n",
      "  [1 1 1]]\n",
      "\n",
      " [[1 1 1]\n",
      "  [1 1 1]\n",
      "  [1 1 1]\n",
      "  ...\n",
      "  [1 1 1]\n",
      "  [1 1 1]\n",
      "  [1 1 1]]\n",
      "\n",
      " [[1 1 1]\n",
      "  [1 1 1]\n",
      "  [1 1 1]\n",
      "  ...\n",
      "  [1 1 1]\n",
      "  [1 1 1]\n",
      "  [1 1 1]]\n",
      "\n",
      " ...\n",
      "\n",
      " [[1 1 1]\n",
      "  [1 1 1]\n",
      "  [1 1 1]\n",
      "  ...\n",
      "  [1 1 1]\n",
      "  [1 1 1]\n",
      "  [1 1 1]]\n",
      "\n",
      " [[1 1 1]\n",
      "  [1 1 1]\n",
      "  [1 1 1]\n",
      "  ...\n",
      "  [1 1 1]\n",
      "  [1 1 1]\n",
      "  [1 1 1]]\n",
      "\n",
      " [[1 1 1]\n",
      "  [1 1 1]\n",
      "  [1 1 1]\n",
      "  ...\n",
      "  [1 1 1]\n",
      "  [1 1 1]\n",
      "  [1 1 1]]]\n"
     ]
    }
   ],
   "source": [
    "# white image\n",
    "white = np.ones([512,512,3],np.uint8)\n",
    "print(white)\n",
    "cv.imshow(\"IMG\",white)\n",
    "cv.waitKey(0)\n",
    "cv.destroyAllWindows()"
   ]
  }
 ],
 "metadata": {
  "kernelspec": {
   "display_name": "venv",
   "language": "python",
   "name": "python3"
  },
  "language_info": {
   "codemirror_mode": {
    "name": "ipython",
    "version": 3
   },
   "file_extension": ".py",
   "mimetype": "text/x-python",
   "name": "python",
   "nbconvert_exporter": "python",
   "pygments_lexer": "ipython3",
   "version": "3.12.3"
  }
 },
 "nbformat": 4,
 "nbformat_minor": 2
}
