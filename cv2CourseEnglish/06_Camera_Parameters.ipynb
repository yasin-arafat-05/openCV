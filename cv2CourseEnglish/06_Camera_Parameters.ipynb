{
 "cells": [
  {
   "cell_type": "markdown",
   "metadata": {},
   "source": [
    "# Lecture 06: camera parameter\n",
    "\n",
    "`We alrady use cap.get() here we will see cap.set()`"
   ]
  },
  {
   "cell_type": "code",
   "execution_count": 8,
   "metadata": {},
   "outputs": [],
   "source": [
    "import cv2 as cv"
   ]
  },
  {
   "cell_type": "code",
   "execution_count": 17,
   "metadata": {},
   "outputs": [
    {
     "name": "stdout",
     "output_type": "stream",
     "text": [
      "height: 576.0 \n",
      "width: 768.0 \n",
      "\n",
      "\n",
      "height: 576.0 \n",
      "width: 768.0 \n"
     ]
    }
   ],
   "source": [
    "# from video file:\n",
    "\n",
    "cap = cv.VideoCapture('data/vtest.avi')\n",
    "\n",
    "print(\"height: {} \".format(cap.get(cv.CAP_PROP_FRAME_HEIGHT)))\n",
    "print(\"width: {} \".format(cap.get(cv.CAP_PROP_FRAME_WIDTH)))\n",
    "\n",
    "cap.set(cv.CAP_PROP_FRAME_WIDTH,800)\n",
    "cap.set(cv.CAP_PROP_FRAME_HEIGHT,300)\n",
    "\n",
    "print()\n",
    "print()\n",
    "\n",
    "print(\"height: {} \".format(cap.get(4)))\n",
    "print(\"width: {} \".format(cap.get(3)))\n",
    "\n",
    "\n",
    "while cap.isOpened(): \n",
    "    rate,frame = cap.read() \n",
    "    if not rate:\n",
    "        break\n",
    "    frame = cv.resize(frame,(800,300))\n",
    "    cv.imshow(\"video\",frame)\n",
    "    if cv.waitKey(60) & 0xFF == ord('q'): # wait key(val) value work as frame per second\n",
    "        break\n",
    "    \n",
    "\n",
    "    \n",
    "cap.release()\n",
    "cv.destroyAllWindows()"
   ]
  }
 ],
 "metadata": {
  "kernelspec": {
   "display_name": "venv",
   "language": "python",
   "name": "python3"
  },
  "language_info": {
   "codemirror_mode": {
    "name": "ipython",
    "version": 3
   },
   "file_extension": ".py",
   "mimetype": "text/x-python",
   "name": "python",
   "nbconvert_exporter": "python",
   "pygments_lexer": "ipython3",
   "version": "3.12.3"
  }
 },
 "nbformat": 4,
 "nbformat_minor": 2
}
