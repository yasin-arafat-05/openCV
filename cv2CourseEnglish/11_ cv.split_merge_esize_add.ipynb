{
 "cells": [
  {
   "cell_type": "markdown",
   "metadata": {},
   "source": [
    "<br>\n",
    "\n",
    "# Lecture 11: (Learn Some Function())\n",
    " \n",
    " - `cv.split()`\n",
    " - `cv.merge()`\n",
    " - `cv.resize()`\n",
    " - `cv.add()`\n",
    " - `cv.addWeighted()`\n",
    " - `ROI: Region of interest`\n",
    "\n"
   ]
  },
  {
   "cell_type": "code",
   "execution_count": 1,
   "metadata": {},
   "outputs": [],
   "source": [
    "\n",
    "import cv2 as cv \n",
    "import numpy as np \n"
   ]
  },
  {
   "cell_type": "markdown",
   "metadata": {},
   "source": [
    "# shape,size,data type, split and merge"
   ]
  },
  {
   "cell_type": "code",
   "execution_count": 9,
   "metadata": {},
   "outputs": [
    {
     "name": "stdout",
     "output_type": "stream",
     "text": [
      "shpae: (342, 548, 3)\n",
      "totol pixel: 562248\n",
      "data type: uint8\n"
     ]
    }
   ],
   "source": [
    "\n",
    "img = cv.imread('data/messi5.jpg')\n",
    "\n",
    "cv.imshow(\"Image\",img)\n",
    "\n",
    "print(f\"shpae: {img.shape}\") # height, width , channel\n",
    "print(f\"totol pixel: {img.size}\") # total pixel \n",
    "print(f\"data type: {img.dtype}\") # dtype of image pixel  \n",
    "\n",
    "b,g,r = cv.split(img)\n",
    "\n",
    "cv.imshow(\"b\",b)\n",
    "cv.imshow(\"g\",g)\n",
    "cv.imshow(\"r\",r)\n",
    "\n",
    "orginalIMage = cv.merge((b,g,r))\n",
    "cv.imshow(\"orginalImage\",orginalIMage)\n",
    "\n",
    "if cv.waitKey(0) & 0xFF == ord('q'):\n",
    "    cv.destroyAllWindows()\n",
    "    \n"
   ]
  },
  {
   "cell_type": "markdown",
   "metadata": {},
   "source": [
    "# ROI (Region Of Interest)\n",
    "\n",
    "`Like we only want to work with messi football`"
   ]
  },
  {
   "cell_type": "code",
   "execution_count": 13,
   "metadata": {},
   "outputs": [],
   "source": [
    "img = cv.imread('data/messi5.jpg')\n",
    "\n",
    "ball = img[280:340,330:390]\n",
    "\n",
    "img[273:333,100:160] = ball\n",
    "\n",
    "cv.imshow(\"output\",img)\n",
    "\n",
    "if cv.waitKey(0) & 0xFF == ord('q'):\n",
    "    cv.destroyAllWindows()\n",
    "   "
   ]
  },
  {
   "cell_type": "markdown",
   "metadata": {},
   "source": [
    "# add two image cv.add()"
   ]
  },
  {
   "cell_type": "code",
   "execution_count": 17,
   "metadata": {},
   "outputs": [],
   "source": [
    "img = cv.imread('data/messi5.jpg')\n",
    "img1 = cv.imread('data/opencv-logo.png')\n",
    "\n",
    "# we can't use add method if the size is not same :\n",
    "img = cv.resize(img,(512,512))\n",
    "img1 = cv.resize(img1,(512,512))\n",
    "\n",
    "final = cv.add(img,img1)\n",
    "\n",
    "cv.imshow(\"output\",final)\n",
    "\n",
    "if cv.waitKey(0) & 0xFF == ord('q'):\n",
    "    cv.destroyAllWindows()\n",
    "   "
   ]
  },
  {
   "cell_type": "markdown",
   "metadata": {},
   "source": [
    "\n",
    "<br>\n",
    "\n",
    "# add with :  cv.addWeighted()\n",
    "\n",
    "<br>"
   ]
  },
  {
   "cell_type": "code",
   "execution_count": 30,
   "metadata": {},
   "outputs": [],
   "source": [
    "img = cv.imread('data/messi5.jpg')\n",
    "img1 = cv.imread('data/opencv-logo.png')\n",
    "\n",
    "# we can't use add method if the size is not same :\n",
    "img = cv.resize(img,(512,512))\n",
    "img1 = cv.resize(img1,(512,512))\n",
    "\n",
    "\n",
    "final = cv.addWeighted(img,0.5,img1,0.5,0)\n",
    "\n",
    "cv.imshow(\"output\",final)\n",
    "\n",
    "if cv.waitKey(0) & 0xFF == ord('q'):\n",
    "    cv.destroyAllWindows()\n",
    "   "
   ]
  },
  {
   "cell_type": "markdown",
   "metadata": {},
   "source": [
    "---\n",
    "\n",
    "This line of code uses OpenCV's `addWeighted` function to blend two images together. Let me break it down:\n",
    "\n",
    "-  **`final`:** This is the variable that will hold the resulting blended image.\n",
    "\n",
    "-  **`cv.addWeighted`**:  This is the function from the OpenCV library used for blending images.\n",
    "\n",
    "-  **`source img`**: This is one of the input images to be blended.\n",
    "\n",
    "- **`alpha of img 0.9`**:  This is the weight (or blending factor) assigned to the first image (`img`). It determines how much of `img` will contribute to the final blended image. Here, it's 0.9, meaning 90% of the intensity of `img` will be preserved in the final image.\n",
    "\n",
    "-  **`source img1`**: This is the second input image to be blended.\n",
    "\n",
    "-  **`beta of img1 0.1`**:  This is the weight assigned to the second image (`img1`). Similar to the first weight, it determines how much of `img1` will contribute to the final blended image. Here, it's 0.1, meaning 10% of the intensity of `img1` will be preserved in the final image.\n",
    "\n",
    "- **`gamma 0`**:  This is a scalar value added to each pixel after blending. It's optional and is set to 0 in this case.\n",
    "\n",
    "The range of the weights should be between 0 and 1, where 0 means no contribution from that image, and 1 means full contribution. The sum of the weights should be 1.\n",
    "\n",
    "\n",
    "The formula used for blending two images with weights \\( \\alpha \\) and \\( \\beta \\) is:\n",
    "\n",
    "![Alt text](image.png)\n",
    "\n",
    "---"
   ]
  }
 ],
 "metadata": {
  "kernelspec": {
   "display_name": "venv",
   "language": "python",
   "name": "python3"
  },
  "language_info": {
   "codemirror_mode": {
    "name": "ipython",
    "version": 3
   },
   "file_extension": ".py",
   "mimetype": "text/x-python",
   "name": "python",
   "nbconvert_exporter": "python",
   "pygments_lexer": "ipython3",
   "version": "3.12.3"
  }
 },
 "nbformat": 4,
 "nbformat_minor": 2
}
