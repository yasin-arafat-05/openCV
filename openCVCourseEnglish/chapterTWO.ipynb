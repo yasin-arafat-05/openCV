{
 "cells": [
  {
   "cell_type": "markdown",
   "metadata": {},
   "source": [
    "# Chapter two: Important function:\n",
    "\n",
    "- `convert image into gray scale image`\n",
    "- `blur an image` : cv.GaussianBlur()\n",
    "- `detection edge` : cv.Canny()\n",
    "- `Dialte image: increase the thikness of  edge` : cv.dilate() \n",
    "- `Eroded image: decrese the thikness of edge : opposite of dilate()` : cv.erode() "
   ]
  },
  {
   "cell_type": "code",
   "execution_count": 14,
   "metadata": {},
   "outputs": [],
   "source": [
    "import cv2 as cv\n",
    "import numpy as np"
   ]
  },
  {
   "cell_type": "code",
   "execution_count": 10,
   "metadata": {},
   "outputs": [],
   "source": [
    "# covert image into gray scale image\n",
    "\n",
    "img  = cv.imread('./picture/horse.jpeg')\n",
    "cv.imshow(\"orginalImage\",img)\n",
    "img = cv.cvtColor(img,cv.COLOR_BGR2GRAY)\n",
    "cv.imshow('grayScaleImage',img)\n",
    "if cv.waitKey(0) == ord('q'):\n",
    "    cv.destroyAllWindows()"
   ]
  },
  {
   "cell_type": "code",
   "execution_count": 12,
   "metadata": {},
   "outputs": [],
   "source": [
    "# blur an image\n",
    "\n",
    "img  = cv.imread('./picture/horse.jpeg')\n",
    "cv.imshow(\"orginalImage\",img)\n",
    "img = cv.GaussianBlur(img,(7,7),10,0)\n",
    "cv.imshow('blur',img)\n",
    "if cv.waitKey(0) == ord('q'):\n",
    "    cv.destroyAllWindows()"
   ]
  },
  {
   "cell_type": "markdown",
   "metadata": {},
   "source": [
    "\n",
    "Here's a brief explanation of the parameters of `cv2.GaussianBlur()`:\n",
    "\n",
    "- `src`: The input image. It should be a single-channel or multi-channel image of type uint8 or float32.\n",
    "- `ksize`: A tuple specifying the kernel size. It should be an odd integer in both dimensions (e.g., (5, 5), (9, 9), etc.). Larger kernel sizes result in stronger blur effects.\n",
    "- `sigmaX`: The standard deviation in the X direction of the Gaussian kernel. If set to 0, it is calculated from the kernel size. Higher values result in more blur.\n",
    "- `sigmaY`: The standard deviation in the Y direction of the Gaussian kernel. If set to 0, it is set to the same value as sigmaX. This parameter is optional.\n"
   ]
  },
  {
   "cell_type": "code",
   "execution_count": 13,
   "metadata": {},
   "outputs": [],
   "source": [
    "# edge detection:\n",
    "\n",
    "img  = cv.imread('./picture/horse.jpeg')\n",
    "cv.imshow(\"orginalImage\",img)\n",
    "img = cv.Canny(img,100,200)\n",
    "cv.imshow('edgeDetection',img)\n",
    "if cv.waitKey(0) == ord('q'):\n",
    "    cv.destroyAllWindows()"
   ]
  },
  {
   "cell_type": "code",
   "execution_count": 20,
   "metadata": {},
   "outputs": [],
   "source": [
    "# dialate image and erode image:\n",
    "\n",
    "kernal = np.ones((5,5),np.uint8) #  2^8   (256) in total (0~255)\n",
    "\n",
    "img  = cv.imread('./picture/horse.jpeg')\n",
    "\n",
    "img= cv.Canny(img,150,200)\n",
    "cv.imshow('edgeDectect',img)\n",
    "\n",
    "# iterations: how many times the kernal move around the image\n",
    "imgONE = cv.dilate(img,kernal,iterations=1) \n",
    "cv.imshow(\"iteration = 1\",imgONE)\n",
    "\n",
    "imgTWO = cv.dilate(img,kernal,iterations=2)\n",
    "cv.imshow(\"iteration = 2 \",imgTWO)\n",
    "\n",
    "imgThree = cv.erode(imgTWO,kernal,iterations=2)\n",
    "cv.imshow(\"erode image\",imgThree)\n",
    "\n",
    "if cv.waitKey(0) == ord('q'):\n",
    "    cv.destroyAllWindows()"
   ]
  }
 ],
 "metadata": {
  "kernelspec": {
   "display_name": "venv",
   "language": "python",
   "name": "python3"
  },
  "language_info": {
   "codemirror_mode": {
    "name": "ipython",
    "version": 3
   },
   "file_extension": ".py",
   "mimetype": "text/x-python",
   "name": "python",
   "nbconvert_exporter": "python",
   "pygments_lexer": "ipython3",
   "version": "3.12.3"
  }
 },
 "nbformat": 4,
 "nbformat_minor": 2
}
