{
 "cells": [
  {
   "cell_type": "markdown",
   "metadata": {},
   "source": [
    "# Chapter Three : \n",
    "\n",
    "-`OPENCV CONVENTION`\n",
    "-`Shape and resize an image`\n",
    "-`corped and image`\n"
   ]
  },
  {
   "cell_type": "markdown",
   "metadata": {},
   "source": [
    "# how we measure height, weight of an image:\n",
    "\n",
    "- ডান দিকে X axis\n",
    "- নিচের দিকে Y axis\n",
    "- Max(height(480)and width(640) of the image) bottom left corner\n",
    "\n",
    "![image.png](image.png)"
   ]
  },
  {
   "cell_type": "code",
   "execution_count": 1,
   "metadata": {},
   "outputs": [],
   "source": [
    "import cv2 as cv "
   ]
  },
  {
   "cell_type": "code",
   "execution_count": 6,
   "metadata": {},
   "outputs": [
    {
     "name": "stdout",
     "output_type": "stream",
     "text": [
      "(297, 474, 3)\n",
      "(480, 620, 3)\n"
     ]
    }
   ],
   "source": [
    "# shape and resize of an image\n",
    "\n",
    "img = cv.imread('./picture/horse.jpeg')\n",
    "print(img.shape) # output: height,width and number of channel\n",
    "img = cv.resize(img,(620,480)) # new_shpae = (width,height)\n",
    "print(img.shape) \n"
   ]
  },
  {
   "cell_type": "code",
   "execution_count": 7,
   "metadata": {},
   "outputs": [
    {
     "name": "stderr",
     "output_type": "stream",
     "text": [
      "qt.qpa.plugin: Could not find the Qt platform plugin \"wayland\" in \"/home/yasin/allProgram/openCV/venv/lib/python3.12/site-packages/cv2/qt/plugins\"\n"
     ]
    }
   ],
   "source": [
    "# in openCV (width,height) but in matrix first(height,width) we see that also above:\n",
    "\n",
    "img = cv.imread('./picture/horse.jpeg')\n",
    "\n",
    "imgCropped  = img[0:200,0:400] \n",
    "\n",
    "cv.imshow(\"Orginal_Image\",img)\n",
    "cv.imshow(\"CroppedImage\",imgCropped)\n",
    "\n",
    "if cv.waitKey(0) == ord('q'):\n",
    "    cv.destroyAllWindows()"
   ]
  }
 ],
 "metadata": {
  "kernelspec": {
   "display_name": "venv",
   "language": "python",
   "name": "python3"
  },
  "language_info": {
   "codemirror_mode": {
    "name": "ipython",
    "version": 3
   },
   "file_extension": ".py",
   "mimetype": "text/x-python",
   "name": "python",
   "nbconvert_exporter": "python",
   "pygments_lexer": "ipython3",
   "version": "3.12.3"
  }
 },
 "nbformat": 4,
 "nbformat_minor": 2
}
