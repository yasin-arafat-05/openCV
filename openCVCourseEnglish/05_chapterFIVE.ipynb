{
 "cells": [
  {
   "cell_type": "markdown",
   "metadata": {},
   "source": [
    "# Chapter Five:\n",
    "\n",
    "-`Perspective Projection:`\n",
    "\n",
    "`Perspective: ` আমরা কোন বস্তুর কাছে থাকলে সেই বস্তুকে বড় আর দুরে থাকলে সেই বস্তুকে ছোট দেখি । এইটা হচ্ছে Perspective। কোন সোজা রেল লাইনের সামনে দাড়িয়ে থাকলে আমাদের মনে হয় কোন এক বিন্দু থেকে রেল লাইন টা expand হতে হতে আসতেছে । এখানে, উপরের টাই `আমরা কোন বস্তুর কাছে থাকলে সেই বস্তুকে বড় আর দুরে থাকলে সেই বস্তুকে ছোট দেখি` concept implement হয় । তাই আমাদের কাছে এমন মনে হয় । \n",
    "\n",
    "![Alt text](image-1.png)\n",
    "\n",
    "<br>\n",
    "\n",
    "`Projection: ` 3D বস্তুকে 2D আকারে দেখানো ।\n",
    "\n",
    "\n",
    "OpenCV তে আমাদের কাছে কোন একটা 2D image থাকলে তার view point গুলো change করবো কিন্তু view point গুলো change করার আগে আমাদের কাছে ছবিটা যেমন দেখতে ছিল view point গুলো change করার পর আর তেমন দেখবে না । উপরের রেইলাইনের টা নেওয়া যাক । আমরা যদি রেললাইনের একদম সামনে এগিযে যেতে থাকি তাহলে কি আমরা কখনো দেখতে পাবো যে, এক বিন্দু থেকে রেল লাইন টা expand হতে হতে আসতেছে । অব্যশইন না । আমরা এখন সেইটা করা শিখবো in OpenCV. \n",
    "<br>\n",
    "For more show this video : [link](https://www.youtube.com/watch?v=PtCQH93GucA&ab_channel=Pysource)\n",
    "<br>\n",
    "\n",
    "### In OpenCV:\n",
    "\n",
    "In OpenCV, \"perspective transformation\" refers to the process of transforming the perspective of an image, essentially changing the viewpoint from which the image is observed. This transformation involves mapping the points in the image from one perspective to another, which can be useful for various computer vision tasks such as image stitching, object recognition, and augmented reality.\n",
    "\n",
    "Perspective transformation is typically performed using a 3x3 transformation matrix, known as the perspective transformation matrix or homography matrix. This matrix describes how each point in the original image should be mapped to its corresponding point in the transformed image.\n",
    "\n",
    "OpenCV provides functions to perform perspective transformation, such as `cv2.getPerspectiveTransform()` to obtain the transformation matrix and `cv2.warpPerspective()` to apply the transformation to an image.\n",
    "\n",
    "In summary, perspective transformation in OpenCV allows you to alter the viewpoint of an image, enabling various geometric manipulations and analysis.\n",
    "\n"
   ]
  },
  {
   "cell_type": "code",
   "execution_count": null,
   "metadata": {},
   "outputs": [],
   "source": []
  }
 ],
 "metadata": {
  "kernelspec": {
   "display_name": "venv",
   "language": "python",
   "name": "python3"
  },
  "language_info": {
   "name": "python",
   "version": "3.12.3"
  }
 },
 "nbformat": 4,
 "nbformat_minor": 2
}
