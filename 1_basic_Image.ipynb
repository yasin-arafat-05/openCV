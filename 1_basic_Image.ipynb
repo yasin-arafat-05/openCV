{
 "cells": [
  {
   "cell_type": "markdown",
   "metadata": {},
   "source": [
    "<br>\n",
    "\n",
    "## How to load an image, display it and save it back :\n",
    "\n",
    "<br>"
   ]
  },
  {
   "cell_type": "code",
   "execution_count": 1,
   "metadata": {},
   "outputs": [],
   "source": [
    "# import the module \n",
    "import cv2 as cv  "
   ]
  },
  {
   "cell_type": "markdown",
   "metadata": {},
   "source": [
    "#### Image Load and show the image in windows:"
   ]
  },
  {
   "cell_type": "code",
   "execution_count": 2,
   "metadata": {},
   "outputs": [],
   "source": [
    "# load the image \n",
    "img = cv.imread(r'assest/pythonLogo.png')\n",
    "\n",
    "#show image (\"windows name\",which image want to show)\n",
    "cv.imshow(\"DemoWindow\",img)\n",
    "\n",
    "# Hold the sreen to show the image\n",
    "# 0 for show image and 1 for video\n",
    "k = cv.waitKey(0)\n",
    "\n",
    "# The cv.destroyAllWindows() function in OpenCV is used to close all the OpenCV windows that are currently open\n",
    "if k==ord('e'):\n",
    "    cv.destroyAllWindows()\n"
   ]
  },
  {
   "cell_type": "markdown",
   "metadata": {},
   "source": [
    "#### Image Load and save in the memory file:"
   ]
  },
  {
   "cell_type": "code",
   "execution_count": 5,
   "metadata": {},
   "outputs": [],
   "source": [
    "img1 = cv.imread(r'assest/python.jpg')\n",
    "cv.imshow(\"windows\",img1)\n",
    "l = cv.waitKey(0)\n",
    "if l==ord('s'):\n",
    "    cv.imwrite('saveAssest/demo.jpg',img1)\n",
    "    cv.destroyAllWindows()"
   ]
  },
  {
   "cell_type": "markdown",
   "metadata": {},
   "source": [
    "#### Re-size the output windows:"
   ]
  },
  {
   "cell_type": "code",
   "execution_count": 11,
   "metadata": {},
   "outputs": [],
   "source": [
    "img_resize = cv.resize(img1,(1000,500))\n",
    "cv.imshow(\"resize windows\",img_resize)\n",
    "m = cv.waitKey(0)\n",
    "if m==ord('e'):\n",
    "    cv.destroyAllWindows()"
   ]
  }
 ],
 "metadata": {
  "kernelspec": {
   "display_name": "Python 3",
   "language": "python",
   "name": "python3"
  },
  "language_info": {
   "codemirror_mode": {
    "name": "ipython",
    "version": 3
   },
   "file_extension": ".py",
   "mimetype": "text/x-python",
   "name": "python",
   "nbconvert_exporter": "python",
   "pygments_lexer": "ipython3",
   "version": "3.11.7"
  }
 },
 "nbformat": 4,
 "nbformat_minor": 2
}
