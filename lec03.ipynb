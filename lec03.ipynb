{
 "cells": [
  {
   "cell_type": "markdown",
   "metadata": {},
   "source": [
    "# Drawing Functions in OpenCV:\n",
    "\n",
    "- `cv.line()`, `cv.circle()`, `cv.rectangle()`, `cv.ellipse()`, `cv.putText()`, `cv.polylines()`"
   ]
  },
  {
   "cell_type": "markdown",
   "metadata": {},
   "source": [
    "#### Create a black screen for drawing:\n",
    "\n",
    "img = `np.zeros((512,512,3), np.uint8)`\n",
    "\n",
    "`cv.line(img,(0,0),(511,511),(255,0,0),5)`\n",
    "\n",
    "cv.line(image_where to display,starting point, ending point, color, thikness)"
   ]
  },
  {
   "cell_type": "markdown",
   "metadata": {},
   "source": [
    "<br> \n",
    "<br>\n",
    "\n",
    "# Use draw function in a black page:\n",
    "\n",
    "<br>\n",
    "<br>"
   ]
  },
  {
   "cell_type": "code",
   "execution_count": 26,
   "metadata": {},
   "outputs": [],
   "source": [
    "import cv2 as cv\n",
    "import numpy as np\n",
    "\n",
    "\n",
    "# create a black screen:\n",
    "img = np.zeros((512,512,3),np.uint8)\n",
    "\n",
    "# draw a line\n",
    "cv.line(img,(0,0),(100,100),(255,0,0),5)\n",
    "\n",
    "# draw a cirle \n",
    "# (starting point and radius)\n",
    "cv.circle(img,(100,100),20,(255,0,0),-1)\n",
    "\n",
    "\n",
    "#draw a elliplse\n",
    "#(center,(major,minor axes length),start angle,end angle,color,thickness)\n",
    "cv.ellipse(img,(200,100),(100,50),0,0,180,(255,0,0),-1)\n",
    "\n",
    "\n",
    "#draw a rectange \n",
    "# (img,top_left,top_right)\n",
    "cv.rectangle(img,(255,255),(500,500),(0,255,0),-1)\n",
    "\n",
    "\n",
    "#draw a polygon\n",
    "# Ture/False means wheather the polygon is coles or not\n",
    "\n",
    "pts = np.array([[100,120],[110,130],[130,150],[150,170],[100,200]])\n",
    "cv.polylines(img,[pts],True,(0,0,255),10)\n",
    "\n",
    "'''\n",
    "To put texts in images, you need specify following things.\n",
    "\n",
    "-   Text data that you want to write\n",
    "-   Position coordinates of where you want put it (i.e. bottom-left corner where data starts).\n",
    "-   Font type (Check cv.putText() docs for supported fonts)\n",
    "-   Font Scale (specifies the size of font)\n",
    "-   regular things like color, thickness, lineType etc. For better look, lineType = cv.LINE_AA is recommended.\\\n",
    "'''\n",
    "font = cv.FONT_HERSHEY_COMPLEX\n",
    "\n",
    "cv.putText(img,'OpenCV',(10,450),font,4,(0,0,255),4,cv.LINE_AA)\n",
    "\n",
    "\n",
    "cv.imshow(\"output\",img)\n",
    "\n",
    "if cv.waitKey(0)==ord('q'):\n",
    "    cv.destroyAllWindows()"
   ]
  },
  {
   "cell_type": "markdown",
   "metadata": {},
   "source": [
    "<br><br>\n",
    "\n",
    "# Use Draw Function in a white screen\n",
    "\n",
    "<br> <br>"
   ]
  },
  {
   "cell_type": "code",
   "execution_count": 48,
   "metadata": {},
   "outputs": [],
   "source": [
    "img1 = np.ones((512,512,3),np.int8)\n",
    "\n",
    "#draw a line\n",
    "cv.line(img1,(0,0),(50,100),(255,0,0),5)\n",
    "#draw a ellipse\n",
    "cv.ellipse(img1,(200,150),(100,20),0,0,180,(0,0,255),-1)\n",
    "#draw a circle\n",
    "cv.circle(img1,(50,100),50,(0,255,0),-1)\n",
    "#draw a rectangle\n",
    "cv.rectangle(img1,(0,50),(100,150),(255,255,0),8)\n",
    "#draw a polygon\n",
    "# co = np.array([[]])\n",
    "# cv.polylines()\n",
    "\n",
    "#-----------putText()-------------\n",
    "font2 = cv.FONT_HERSHEY_PLAIN\n",
    "cv.putText(img1,\"OpenCV\",(10,450),font,4,(0,255,255))\n",
    "\n",
    "cv.imshow(\"output\",img1)\n",
    "\n",
    "if cv.waitKey(0)==ord('q'):\n",
    "    cv.destroyAllWindows()"
   ]
  },
  {
   "cell_type": "markdown",
   "metadata": {},
   "source": [
    "<br><br>\n",
    "\n",
    "# Use Draw Function In A Video:\n",
    "\n",
    "<br><br>"
   ]
  },
  {
   "cell_type": "code",
   "execution_count": 50,
   "metadata": {},
   "outputs": [
    {
     "name": "stdout",
     "output_type": "stream",
     "text": [
      "Video finished. Exiting. . . . .\n"
     ]
    }
   ],
   "source": [
    "cap = cv.VideoCapture(r'./assest/test_video.mp4')\n",
    "\n",
    "while True:\n",
    "    if not cap.isOpened():\n",
    "        print(\"Camera can't not open\")\n",
    "        exit()\n",
    "    rate,frame = cap.read()\n",
    "    if not rate:\n",
    "        print(\"Video finished. Exiting. . . . .\")\n",
    "        break\n",
    "    frame = cv.resize(frame,(640,480))\n",
    "\n",
    "    cv.line(frame,(0,0),(30,30),(255,255,0),5)\n",
    "\n",
    "    cv.imshow(\"output\",frame)\n",
    "    \n",
    "    if cv.waitKey(1)==ord('1'):\n",
    "        break\n",
    "cap.release()\n",
    "cv.destroyAllWindows()"
   ]
  }
 ],
 "metadata": {
  "kernelspec": {
   "display_name": "Python 3",
   "language": "python",
   "name": "python3"
  },
  "language_info": {
   "codemirror_mode": {
    "name": "ipython",
    "version": 3
   },
   "file_extension": ".py",
   "mimetype": "text/x-python",
   "name": "python",
   "nbconvert_exporter": "python",
   "pygments_lexer": "ipython3",
   "version": "3.11.7"
  }
 },
 "nbformat": 4,
 "nbformat_minor": 2
}
